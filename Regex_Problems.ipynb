{
 "cells": [
  {
   "cell_type": "code",
   "execution_count": 29,
   "metadata": {},
   "outputs": [],
   "source": [
    "from re import search, findall\n",
    "from collections import defaultdict"
   ]
  },
  {
   "cell_type": "markdown",
   "metadata": {},
   "source": [
    "## Valid PAN format"
   ]
  },
  {
   "cell_type": "code",
   "execution_count": 18,
   "metadata": {},
   "outputs": [
    {
     "name": "stdout",
     "output_type": "stream",
     "text": [
      "<_sre.SRE_Match object; span=(0, 10), match='ABCDS1234Y'>\n"
     ]
    }
   ],
   "source": [
    "print(search('^[A-Z]{5}[\\d]{4}[A-Z]$', 'ABCDS1234Y'))"
   ]
  },
  {
   "cell_type": "markdown",
   "metadata": {},
   "source": [
    "## Detect HTML Tags"
   ]
  },
  {
   "cell_type": "code",
   "execution_count": 36,
   "metadata": {},
   "outputs": [
    {
     "name": "stdout",
     "output_type": "stream",
     "text": [
      "a; div; p; "
     ]
    }
   ],
   "source": [
    "text = '''<p><a href=\"http://www.quackit.com/html/tutorial/html_links.cfm\">Example Link</a></p>\n",
    "<div class=\"more-info\"><a href=\"http://www.quackit.com/html/examples/html_links_examples.cfm\">More Link Examples...</a>\n",
    "</div>'''\n",
    "finalOP = []\n",
    "finalOP = sorted(findall('(?<=<)\\\\w+', text))\n",
    "finalOP = list(dict.fromkeys(finalOP))\n",
    "for x in range(len(finalOP)): \n",
    "    print(finalOP[x] +\";\", end =\" \")"
   ]
  },
  {
   "cell_type": "markdown",
   "metadata": {},
   "source": [
    "## Detect Email ID"
   ]
  },
  {
   "cell_type": "code",
   "execution_count": 43,
   "metadata": {},
   "outputs": [
    {
     "ename": "SyntaxError",
     "evalue": "invalid syntax (<ipython-input-43-df8b6fdc249e>, line 20)",
     "output_type": "error",
     "traceback": [
      "\u001b[0;36m  File \u001b[0;32m\"<ipython-input-43-df8b6fdc249e>\"\u001b[0;36m, line \u001b[0;32m20\u001b[0m\n\u001b[0;31m    You’ll have to embrace randomness and chaos. There’s some level of discipline (eg: daily scrums) but only so much. We push boundaries everyday, stretch our limits but no one complains because there’s a feeling of doing something great at the end of the day, every single day.'''\u001b[0m\n\u001b[0m                                                                                                                                                                                                                                                                                          \n^\u001b[0m\n\u001b[0;31mSyntaxError\u001b[0m\u001b[0;31m:\u001b[0m invalid syntax\n"
     ]
    }
   ],
   "source": [
    "etext = '''19\n",
    "HackerRank is more than just a company\n",
    "    We are a tight group of hackers, bootstrappers, entrepreneurial thinkers and innovators. We are building an engaged community of problem solvers. Imagine the intelligence and value that a room would hold if it contained hackers/problem solvers from around the world? We're building this online.\n",
    "Hypothesis: Every hacker loves a particular type of challenge presented in a certain set of difficulty. If we build a large collection of real world challenges in different domains with an engaging interface, it is going to be incredible! Join us to create history.\n",
    "Available Positions\n",
    "Product Hacker product@hackerrank.com\n",
    "Challenge Curator\n",
    "Product Evangelist\n",
    "Product Designer\n",
    "Content Creator\n",
    "ACM World Finals Hacker\n",
    "Backend C++ Hacker\n",
    "Mail us at hackers@hackerrank.com to chat more. Or you can write to us at interviewstreet@hackerrank.com!\n",
    "HACKERRANK PERKS\n",
    "Working for a startup is hard work, but there are plenty of benefits of working for a small, fun, growing team.\n",
    "[Image] Perk: Get tools for the jobAll the Right ToolsWe know that everyone's perfect workspace is unique to them. We will get you set up with whatever equipment you need to start hacking - a new 15” Macbook Pro or iMac, or a computer of your choice plus a display if you need it. Additionally, if you require any software or other tools, we've got it covered.[Image] Perk: Flexible HoursFlexible HoursBecause we work so hard, we encourage our employees to keep flexible hours and don't require them to track their time. A morning scrum and open communication ensures that the job gets done on time, and we rely on the honor system so that you can work on your own pace.[Image] Perk: HealthcareWellness SupportTo work hard, you have to be healthy. We will cover your health, dental, and visual insurance with no wait period. That means instant benefits from the day you're hired.[Image] Perk: Choice of LocationLocation, Location, LocationWe are the first Indian company to be backed by Y-Combinator, and as a result we have a thriving office in Bangalore and a growing office in Mountain View, CA. Depending on your residency or visa status, we will get you situated in one of our two offices, both of which are located in the heart of their country's tech industry.[Image] Perk: Choice of LocationCreative SupportIf you have a cool side project that you want to launch, we will pay for EC2/heroku servers to get it off the ground. Side projects fuel creativity and learning, which are crucial to the HackerRank culture.\n",
    "CULTURE\n",
    "The culture of a startup is reflective of the founders’ DNA. Larry Page & Sergey Brin were PhD’s from Stanford and that’s why Google is filled with high scoring graders from top schools and is very hard to get in if you’re not a CS major. Similarly, the hacker culture at Facebook is inspired by Zuckerberg, a hacker, the design culture by Steve Jobs and so on.\n",
    "The adjective to describe the environment/founders here is relentless hardworkers. It might be a general trait of a startup but I’m pretty sure it’s a notch higher here and defines the culture. This is what has taken us this far. It’s not working in weekends or allnighters that count, but the effort that goes into building something intellectually engaging for hackers and making it fun is high.\n",
    "You’ll have to embrace randomness and chaos. There’s some level of discipline (eg: daily scrums) but only so much. We push boundaries everyday, stretch our limits but no one complains because there’s a feeling of doing something great at the end of the day, every single day.'''"
   ]
  },
  {
   "cell_type": "code",
   "execution_count": 44,
   "metadata": {},
   "outputs": [
    {
     "name": "stdout",
     "output_type": "stream",
     "text": [
      "hackers@hackerrank.com; interviewstreet@hackerrank.com; product@hackerrank.com; "
     ]
    }
   ],
   "source": [
    "finalOP = []\n",
    "finalOP = sorted(findall('[\\w\\S.!-]+[@]{1}[\\w]+[.com]+', etext))\n",
    "finalOP = list(dict.fromkeys(finalOP))\n",
    "for x in range(len(finalOP)): \n",
    "    print(finalOP[x] +\";\", end =\" \")"
   ]
  },
  {
   "cell_type": "markdown",
   "metadata": {},
   "source": [
    "## Detect HTML Attributes"
   ]
  },
  {
   "cell_type": "code",
   "execution_count": 17,
   "metadata": {},
   "outputs": [],
   "source": [
    "html = '''9\n",
    "<li style=\"-moz-float-edge: content-box\">... that <a href=\"/wiki/Orval_Overall\" title=\"Orval Overall\">Orval Overall</a> <i>(pictured)</i> is the only <b><a href=\"/wiki/List_of_Major_League_Baseball_pitchers_who_have_struck_out_four_batters_in_one_inning\" title=\"List of Major League Baseball pitchers who have struck out four batters in one inning\">Major League Baseball player to strike out four batters in one inning</a></b> in the <a href=\"/wiki/World_Series\" title=\"World Series\">World Series</a>?</li>\n",
    "<li style=\"-moz-float-edge: content-box\">... that the three cities of the <b><a href=\"/wiki/West_Triangle_Economic_Zone\" title=\"West Triangle Economic Zone\">West Triangle Economic Zone</a></b> contribute 40% of Western China's GDP?</li>\n",
    "<li style=\"-moz-float-edge: content-box\">... that <i><a href=\"/wiki/Kismet_(1943_film)\" title=\"Kismet (1943 film)\">Kismet</a></i>, directed by <b><a href=\"/wiki/Gyan_Mukherjee\" title=\"Gyan Mukherjee\">Gyan Mukherjee</a></b>, ran at the <a href=\"/wiki/Roxy_Cinema_(Kolkata)\" title=\"Roxy Cinema (Kolkata)\">Roxy, Kolkata</a>, for 3 years and 8 months?</li>\n",
    "<li style=\"-moz-float-edge: content-box\">... that <a href=\"/wiki/Vauix_Carter\" title=\"Vauix Carter\">Vauix Carter</a> both coached and played for the <b><a href=\"/wiki/1882_Navy_Midshipmen_football_team\" title=\"1882 Navy Midshipmen football team\">1882 Navy Midshipmen football team</a></b>?</li>\n",
    "<li style=\"-moz-float-edge: content-box\">... that <a href=\"/wiki/Zhu_Chenhao\" title=\"Zhu Chenhao\">Zhu Chenhao</a> was sentenced to <a href=\"/wiki/Slow_slicing\" title=\"Slow slicing\">slow slicing</a> for leading the <b><a href=\"/wiki/Prince_of_Ning_rebellion\" title=\"Prince of Ning rebellion\">Prince of Ning rebellion</a></b> against the <a href=\"/wiki/Ming_Dynasty\" title=\"Ming Dynasty\">Ming Dynasty</a> <a href=\"/wiki/Zhengde_Emperor\" title=\"Zhengde Emperor\">emperor Zhengde</a>?</li>\n",
    "<li style=\"-moz-float-edge: content-box\">... that <b><a href=\"/wiki/Mirza_Adeeb\" title=\"Mirza Adeeb\">Mirza Adeeb</a></b> was a prominent modern Pakistani <a href=\"/wiki/Urdu\" title=\"Urdu\">Urdu</a> playwright whose later work focuses on social problems and daily life?</li>\n",
    "<li style=\"-moz-float-edge: content-box\">... that in <i><b><a href=\"/wiki/La%C3%9Ft_uns_sorgen,_la%C3%9Ft_uns_wachen,_BWV_213\" title=\"Lat uns sorgen, lat uns wachen, BWV 213\">Die Wahl des Herkules</a></b></i>, Hercules must choose between the good cop and the bad cop?<br style=\"clear:both;\" />\n",
    "<div style=\"text-align: right;\" class=\"noprint\"><b><a href=\"/wiki/Wikipedia:Recent_additions\" title=\"Wikipedia:Recent additions\">Archive</a></b>  <b><a href=\"/wiki/Wikipedia:Your_first_article\" title=\"Wikipedia:Your first article\">Start a new article</a></b>  <b><a href=\"/wiki/Template_talk:Did_you_know\" title=\"Template talk:Did you know\">Nominate an article</a></b></div>\n",
    "</li>'''"
   ]
  },
  {
   "cell_type": "code",
   "execution_count": 31,
   "metadata": {},
   "outputs": [
    {
     "name": "stdout",
     "output_type": "stream",
     "text": [
      "a:href,title\n",
      "b:\n",
      "br:style\n",
      "div:class,style\n",
      "i:\n",
      "li:style\n"
     ]
    }
   ],
   "source": [
    "tags = findall(r'<(\\w+)(|\\s+[^>]*)>', html)\n",
    "finalOP = []\n",
    "tag_attr = defaultdict(list) \n",
    "for res in tags:\n",
    "    tag, attr = res\n",
    "    tag_attr[tag].extend(findall(r'(\\w+)=[\\'\\\"]', attr))\n",
    "    for tag, attr in sorted(tag_attr.items()):\n",
    "        finalOP.append(':'.join([tag, ','.join(sorted(set(attr)))]))\n",
    "\n",
    "finalOP = sorted(list(dict.fromkeys(finalOP)))\n",
    "for x in range(len(finalOP)): \n",
    "    print(finalOP[x])"
   ]
  },
  {
   "cell_type": "code",
   "execution_count": null,
   "metadata": {},
   "outputs": [],
   "source": []
  }
 ],
 "metadata": {
  "kernelspec": {
   "display_name": "Python 3",
   "language": "python",
   "name": "python3"
  },
  "language_info": {
   "codemirror_mode": {
    "name": "ipython",
    "version": 3
   },
   "file_extension": ".py",
   "mimetype": "text/x-python",
   "name": "python",
   "nbconvert_exporter": "python",
   "pygments_lexer": "ipython3",
   "version": "3.6.9"
  }
 },
 "nbformat": 4,
 "nbformat_minor": 4
}
