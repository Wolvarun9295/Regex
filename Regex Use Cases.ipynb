{
 "cells": [
  {
   "cell_type": "code",
   "execution_count": 14,
   "metadata": {},
   "outputs": [],
   "source": [
    "import re"
   ]
  },
  {
   "cell_type": "markdown",
   "metadata": {},
   "source": [
    "### USE CASE: Check of First Letter of First Name is UPPERCASE"
   ]
  },
  {
   "cell_type": "code",
   "execution_count": null,
   "metadata": {},
   "outputs": [],
   "source": [
    "upperCheck = \"[a-zA-Z]+\"\n",
    "firstName = str(input(\"Enter the First Name: \"))\n",
    "if (re.match(upperCheck,firstName)):\n",
    "    print(firstName)\n",
    "else:\n",
    "    print(\"Enter FIRST letter as UPPERCASE!\")"
   ]
  },
  {
   "cell_type": "markdown",
   "metadata": {},
   "source": [
    "### USE CASE: Check of First Letter of Last Name is UPPERCASE"
   ]
  },
  {
   "cell_type": "code",
   "execution_count": null,
   "metadata": {},
   "outputs": [],
   "source": [
    "lastName = input(\"Enter the Last Name: \")\n",
    "if (re.match(upperCheck,lastName)):\n",
    "    print(lastName)\n",
    "else:\n",
    "    print(\"Enter LAST letter as UPPERCASE!\")"
   ]
  },
  {
   "cell_type": "markdown",
   "metadata": {},
   "source": [
    "### USE CASE: Check if email ID is valid"
   ]
  },
  {
   "cell_type": "code",
   "execution_count": 16,
   "metadata": {},
   "outputs": [
    {
     "name": "stdout",
     "output_type": "stream",
     "text": [
      "Enter email ID: varun.nagrare@gmail.com\n",
      "Email is Valid!\n"
     ]
    }
   ],
   "source": [
    "email = \"[a-zA-Z0-9]+@[a-zA-Z]+\\.(com|org|net)\"\n",
    "fName = input(\"Enter email ID: \")\n",
    "if(re.search(email, fName)):\n",
    "    print(\"Email is Valid!\")\n",
    "else:\n",
    "    print(\"Email is Invalid!\")"
   ]
  },
  {
   "cell_type": "markdown",
   "metadata": {},
   "source": [
    "### USE CASE: Check if Phone Number is valid"
   ]
  },
  {
   "cell_type": "code",
   "execution_count": 42,
   "metadata": {},
   "outputs": [
    {
     "name": "stdout",
     "output_type": "stream",
     "text": [
      "Enter a Mobile number: 7875121904\n",
      "Mobile number is Valid!\n"
     ]
    }
   ],
   "source": [
    "mobile = \"^((\\+)?(\\d{2}[-]))?(\\d{10}){1}?$\"\n",
    "fName = input(\"Enter a Mobile number: \")\n",
    "if(re.search(mobile, fName)):\n",
    "    print(\"Mobile number is Valid!\")\n",
    "else:\n",
    "    print(\"Mobile number is Invalid!\")"
   ]
  },
  {
   "cell_type": "markdown",
   "metadata": {},
   "source": [
    "### USE CASE: Check if Password had minimum 8 characters"
   ]
  },
  {
   "cell_type": "code",
   "execution_count": 75,
   "metadata": {},
   "outputs": [
    {
     "name": "stdout",
     "output_type": "stream",
     "text": [
      "Enter a Password: varunXYZ\n",
      "varunXYZ\n"
     ]
    }
   ],
   "source": [
    "Password = input(\"Enter a Password: \")\n",
    "pwd = '^.{8,}$'\n",
    "if(re.match(pwd, Password)):\n",
    "    print(Password)\n",
    "else:\n",
    "    print(\"Check the password again!\")"
   ]
  },
  {
   "cell_type": "markdown",
   "metadata": {},
   "source": [
    "### USE CASE: Check if Password has at least 8 characters and one UPPERCASE"
   ]
  },
  {
   "cell_type": "code",
   "execution_count": 87,
   "metadata": {},
   "outputs": [
    {
     "name": "stdout",
     "output_type": "stream",
     "text": [
      "Enter a Password: VarunXYZ\n",
      "VarunXYZ\n"
     ]
    }
   ],
   "source": [
    "Password = input(\"Enter a Password: \")\n",
    "pwd = \"^(?=.*[A-Z])[a-zA-Z\\d]{8,}$\"\n",
    "if(re.match(pwd, Password)):\n",
    "    print(Password)\n",
    "else:\n",
    "    print(\"Check the password again!\")"
   ]
  },
  {
   "cell_type": "markdown",
   "metadata": {},
   "source": [
    "### USE CASE: Check if Password has at least 8 characters, one UPPERCASE and one Number "
   ]
  },
  {
   "cell_type": "code",
   "execution_count": 81,
   "metadata": {},
   "outputs": [
    {
     "name": "stdout",
     "output_type": "stream",
     "text": [
      "Enter a Password: VarunXYZ1\n",
      "VarunXYZ1\n"
     ]
    }
   ],
   "source": [
    "Password = input(\"Enter a Password: \")\n",
    "pwd = \"^(?=.*[A-Za-z])(?=.*\\d)[A-Za-z\\d]{8,}$\"\n",
    "if(re.match(pwd, Password)):\n",
    "    print(Password)\n",
    "else:\n",
    "    print(\"Check the password again!\")"
   ]
  },
  {
   "cell_type": "markdown",
   "metadata": {},
   "source": [
    "### USE CASE: Check if Password has at least 8 characters, one UPPERCASE, one Number and one Special Character"
   ]
  },
  {
   "cell_type": "code",
   "execution_count": 86,
   "metadata": {},
   "outputs": [
    {
     "name": "stdout",
     "output_type": "stream",
     "text": [
      "Enter a Password: VarunXYZ1$\n",
      "VarunXYZ1$\n"
     ]
    }
   ],
   "source": [
    "Password = input(\"Enter a Password: \")\n",
    "pwd = \"^(?=.*[A-Za-z])(?=.*\\d)(?=.*[@$!%*#?&])[A-Za-z\\d@$!%*#?&]{8,}$\"\n",
    "if(re.match(pwd, Password)):\n",
    "    print(Password)\n",
    "else:\n",
    "    print(\"Check the password again!\")"
   ]
  },
  {
   "cell_type": "code",
   "execution_count": null,
   "metadata": {},
   "outputs": [],
   "source": []
  }
 ],
 "metadata": {
  "kernelspec": {
   "display_name": "Python 3",
   "language": "python",
   "name": "python3"
  },
  "language_info": {
   "codemirror_mode": {
    "name": "ipython",
    "version": 3
   },
   "file_extension": ".py",
   "mimetype": "text/x-python",
   "name": "python",
   "nbconvert_exporter": "python",
   "pygments_lexer": "ipython3",
   "version": "3.6.9"
  }
 },
 "nbformat": 4,
 "nbformat_minor": 4
}
